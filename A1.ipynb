{
 "cells": [
  {
   "cell_type": "code",
   "execution_count": 1,
   "id": "c974ff3f-9a08-40ea-8b33-dc9b957d46fc",
   "metadata": {},
   "outputs": [
    {
     "name": "stdout",
     "output_type": "stream",
     "text": [
      "3.8.8\n"
     ]
    }
   ],
   "source": [
    "import re\n",
    "import json\n",
    "import pandas as pd\n",
    "\n",
    "from platform import python_version\n",
    "\n",
    "print(python_version())"
   ]
  },
  {
   "cell_type": "code",
   "execution_count": 2,
   "id": "8b43e3d9-5e7f-4cd3-b57e-35c73f85b0aa",
   "metadata": {},
   "outputs": [],
   "source": [
    "# read file\n",
    "with open('sydGrid.json', 'r') as myfile:\n",
    "    sydGrid=myfile.read()\n",
    "\n",
    "# parse file\n",
    "grid = json.loads(sydGrid)"
   ]
  },
  {
   "cell_type": "code",
   "execution_count": 3,
   "id": "51ed97f6-33ad-48ec-a8ce-4cfa610f66f9",
   "metadata": {},
   "outputs": [],
   "source": [
    "# read file\n",
    "with open('tinyTwitter.json', 'r') as myfile:\n",
    "    tinyTwitter=myfile.read()\n",
    "\n",
    "# parse file\n",
    "tweet = json.loads(tinyTwitter)"
   ]
  },
  {
   "cell_type": "markdown",
   "id": "0853a690-3aea-4cd7-bdf6-b34e07a22260",
   "metadata": {},
   "source": [
    "Tweets with no location information can be ignored \\\n",
    "Tweets with null or undefined (und) for the language attribute can be ignored"
   ]
  },
  {
   "cell_type": "code",
   "execution_count": 4,
   "id": "1824dc4d-8bc8-4010-ac1c-295eb01e4fcb",
   "metadata": {},
   "outputs": [],
   "source": [
    "''' \n",
    "function 用来提取四个坐标且去重\n",
    "''' \n",
    "\n",
    "def Find_coord_list(strings):\n",
    "    coord_string = \"\"\n",
    "    for i in strings:\n",
    "        coord_string += str(i)+ \" \" \n",
    "    coords = re.findall(r'\\-?\\d+\\.\\d+', coord_string)\n",
    "    coord_list = list(set(coords))\n",
    "    latitude = sorted(coord_list, key=float)[0:2]\n",
    "    longtitude = sorted(coord_list, key=float)[2:4]\n",
    "    coord_list_only = sorted(coord_list, key=float)\n",
    "    \n",
    "    # 排序\n",
    "    return latitude, longtitude, coord_list_only"
   ]
  },
  {
   "cell_type": "code",
   "execution_count": 5,
   "id": "df886118-f2d3-4468-a45d-9aa2edd1f30e",
   "metadata": {},
   "outputs": [
    {
     "name": "stdout",
     "output_type": "stream",
     "text": [
      "[['-34.00412', '-33.85412'], ['-33.85412', '-33.70412'], ['-33.70412', '-33.55412'], ['-34.15412', '-34.00412'], ['-34.00412', '-33.85412'], ['-33.85412', '-33.70412'], ['-33.70412', '-33.55412'], ['-34.15412', '-34.00412'], ['-34.00412', '-33.85412'], ['-33.85412', '-33.70412'], ['-33.70412', '-33.55412'], ['-34.15412', '-34.00412'], ['-34.00412', '-33.85412'], ['-33.85412', '-33.70412'], ['-33.70412', '-33.55412'], ['-34.15412', '-34.00412']]\n"
     ]
    }
   ],
   "source": [
    "# 提取grid坐标\n",
    "lat = []\n",
    "long = []\n",
    "for i in range(len(grid['features'])):\n",
    "    latitude = Find_coord_list(grid['features'][i]['geometry']['coordinates'])[0]\n",
    "    longtitude = Find_coord_list(grid['features'][i]['geometry']['coordinates'])[1]\n",
    "    lat.append(latitude)\n",
    "    long.append(longtitude)\n",
    "print(lat)"
   ]
  },
  {
   "cell_type": "code",
   "execution_count": 6,
   "id": "9865464b-a5f4-414c-bed5-ddf5bd467af9",
   "metadata": {},
   "outputs": [
    {
     "name": "stdout",
     "output_type": "stream",
     "text": [
      "[-33.55412, -33.70412, -33.85412, -34.00412, -34.15412]\n"
     ]
    }
   ],
   "source": [
    "lat_only = []\n",
    "for i in range(len(lat)):    \n",
    "    for j in range(2):\n",
    "        lat_only.append(float(lat[i][j]))\n",
    "        lat_only_final = sorted(Find_coord_list(lat_only)[2], key=float, reverse = True)\n",
    "        \n",
    "lat_only_final = [float(i) for i in lat_only_final]\n",
    "\n",
    "print(lat_only_final)"
   ]
  },
  {
   "cell_type": "code",
   "execution_count": 7,
   "id": "4f9375a7-7d29-4718-83d6-47778b2189ab",
   "metadata": {},
   "outputs": [
    {
     "name": "stdout",
     "output_type": "stream",
     "text": [
      "[150.7655, 150.9155, 151.0655, 151.2155, 151.3655]\n"
     ]
    }
   ],
   "source": [
    "long_only = []\n",
    "for i in range(len(long)):    \n",
    "    for j in range(2):\n",
    "        long_only.append(long[i][j])\n",
    "        long_only_final = Find_coord_list(long_only)[2]\n",
    "\n",
    "long_only_final = [float(i) for i in long_only_final]\n",
    "print(long_only_final)"
   ]
  },
  {
   "cell_type": "code",
   "execution_count": 8,
   "id": "29984261-3dda-453c-a2ac-83615d1ee63d",
   "metadata": {},
   "outputs": [
    {
     "name": "stdout",
     "output_type": "stream",
     "text": [
      "{'A1': {'minlat': [], 'maxlat': [], 'minlong': [], 'maxlong': []}, 'A2': {'minlat': [], 'maxlat': [], 'minlong': [], 'maxlong': []}, 'A3': {'minlat': [], 'maxlat': [], 'minlong': [], 'maxlong': []}, 'A4': {'minlat': [], 'maxlat': [], 'minlong': [], 'maxlong': []}, 'B1': {'minlat': [], 'maxlat': [], 'minlong': [], 'maxlong': []}, 'B2': {'minlat': [], 'maxlat': [], 'minlong': [], 'maxlong': []}, 'B3': {'minlat': [], 'maxlat': [], 'minlong': [], 'maxlong': []}, 'B4': {'minlat': [], 'maxlat': [], 'minlong': [], 'maxlong': []}, 'C1': {'minlat': [], 'maxlat': [], 'minlong': [], 'maxlong': []}, 'C2': {'minlat': [], 'maxlat': [], 'minlong': [], 'maxlong': []}, 'C3': {'minlat': [], 'maxlat': [], 'minlong': [], 'maxlong': []}, 'C4': {'minlat': [], 'maxlat': [], 'minlong': [], 'maxlong': []}, 'D1': {'minlat': [], 'maxlat': [], 'minlong': [], 'maxlong': []}, 'D2': {'minlat': [], 'maxlat': [], 'minlong': [], 'maxlong': []}, 'D3': {'minlat': [], 'maxlat': [], 'minlong': [], 'maxlong': []}, 'D4': {'minlat': [], 'maxlat': [], 'minlong': [], 'maxlong': []}}\n"
     ]
    }
   ],
   "source": [
    "# 先建好空的dict\n",
    "grid_code = ['A1', 'A2', 'A3', 'A4', \n",
    "             'B1', 'B2', 'B3', 'B4',\n",
    "             'C1', 'C2', 'C3', 'C4',\n",
    "             'D1', 'D2', 'D3', 'D4']\n",
    "props=['minlat', 'maxlat', 'minlong', 'maxlong']\n",
    "grid_dic={code:{prop:[] for prop in props} for code in grid_code}\n",
    "#print(grid_dic)\n",
    "\n",
    "# 再loop填数据\n",
    "c = 0\n",
    "while (c < len(grid_dic)):\n",
    "    for i in range(1,len(lat_only_final)):\n",
    "        for j in range(1,len(long_only_final)):\n",
    "            grid_dic[grid_code[c]]['minlat'] = lat_only_final[i-1]\n",
    "            grid_dic[grid_code[c]]['maxlat'] = lat_only_final[i]\n",
    "            grid_dic[grid_code[c]]['minlong'] = long_only_final[j-1]\n",
    "            grid_dic[grid_code[c]]['maxlong'] = long_only_final[j]\n",
    "            c += 1\n",
    "            \n",
    "grid_dic"
   ]
  },
  {
   "cell_type": "code",
   "execution_count": 12,
   "id": "03cf4f92-0ce0-468a-a958-dbee55092ddc",
   "metadata": {},
   "outputs": [
    {
     "name": "stdout",
     "output_type": "stream",
     "text": [
      "2\n"
     ]
    }
   ],
   "source": [
    "tweet_clean = []\n",
    "\n",
    "tweets_dic = tweet['rows'];\n",
    "\n",
    "for i in range(len(tweets_dic)):\n",
    "    \n",
    "    # 先判断有没有geo\n",
    "    if tweets_dic[i]['doc']['geo'] != None:   \n",
    "        \n",
    "        # if 在不在范围\n",
    "        if (tweets_dic[i]['doc']['geo']['coordinates'][0] >= \n",
    "            min(lat_only_final)) and (tweets_dic[i]['doc']['geo']['coordinates'][0] <= \n",
    "                                      max(lat_only_final)) and (tweets_dic[i]['doc']['geo']['coordinates'][1] \n",
    "                                                                >=  min(long_only_final)) and (tweets_dic[i]['doc']['geo']['coordinates'][1] <=  max(long_only_final)):\n",
    "                \n",
    "            if (tweets_dic[i]['doc']['lang'] != None) or (tweets_dic[i]['doc']['lang'] != 'und'):\n",
    "            \n",
    "                tweet_clean.append(tweet['rows'][i])\n",
    "                \n",
    "print(len(tweet_clean))     "
   ]
  },
  {
   "cell_type": "code",
   "execution_count": 13,
   "id": "517d671e-32b7-45ce-a110-fb9d0c513ebf",
   "metadata": {},
   "outputs": [
    {
     "data": {
      "text/plain": [
       "[{'id': '1212162687049883648',\n",
       "  'key': ['sydney', 2020, 1, 1],\n",
       "  'value': 1,\n",
       "  'doc': {'_id': '1212162687049883648',\n",
       "   '_rev': '1-883be9710b1baaca921608c308f986f0',\n",
       "   'created_at': 'Wed Jan 01 00:04:40 +0000 2020',\n",
       "   'id': 1212162687049883600,\n",
       "   'id_str': '1212162687049883648',\n",
       "   'text': 'Happy new year ♥️\\n#cheers 🥂 #skål #2020 en Sydney Harbour Bridge https://t.co/xRwZV4kWTA',\n",
       "   'truncated': False,\n",
       "   'entities': {'hashtags': [{'text': 'cheers', 'indices': [18, 25]},\n",
       "     {'text': 'skål', 'indices': [28, 33]}],\n",
       "    'symbols': [],\n",
       "    'user_mentions': [],\n",
       "    'urls': [{'url': 'https://t.co/xRwZV4kWTA',\n",
       "      'expanded_url': 'https://www.instagram.com/p/B6wZoRKFgSD/?igshid=9jv06r2gw9hj',\n",
       "      'display_url': 'instagram.com/p/B6wZoRKFgSD/…',\n",
       "      'indices': [65, 88]}]},\n",
       "   'metadata': {'iso_language_code': 'en', 'result_type': 'recent'},\n",
       "   'source': '<a href=\"http://instagram.com\" rel=\"nofollow\">Instagram</a>',\n",
       "   'in_reply_to_status_id': None,\n",
       "   'in_reply_to_status_id_str': None,\n",
       "   'in_reply_to_user_id': None,\n",
       "   'in_reply_to_user_id_str': None,\n",
       "   'in_reply_to_screen_name': None,\n",
       "   'user': {'id': 575805559,\n",
       "    'id_str': '575805559',\n",
       "    'name': 'Ana ✝',\n",
       "    'screen_name': 'Mile_Ayala7',\n",
       "    'location': 'Sydney, New South Wales',\n",
       "    'description': '“Somos un solo viaje a través de un laberinto que aún no ha sido enunciado” ☘️🚀 🇨🇴❤️🇩🇰❤️🇦🇺',\n",
       "    'url': None,\n",
       "    'entities': {'description': {'urls': []}},\n",
       "    'protected': False,\n",
       "    'followers_count': 389,\n",
       "    'friends_count': 567,\n",
       "    'listed_count': 1,\n",
       "    'created_at': 'Thu May 10 00:45:49 +0000 2012',\n",
       "    'favourites_count': 14847,\n",
       "    'utc_offset': None,\n",
       "    'time_zone': None,\n",
       "    'geo_enabled': True,\n",
       "    'verified': False,\n",
       "    'statuses_count': 3052,\n",
       "    'lang': None,\n",
       "    'contributors_enabled': False,\n",
       "    'is_translator': False,\n",
       "    'is_translation_enabled': False,\n",
       "    'profile_background_color': '1A1B1F',\n",
       "    'profile_background_image_url': 'http://abs.twimg.com/images/themes/theme9/bg.gif',\n",
       "    'profile_background_image_url_https': 'https://abs.twimg.com/images/themes/theme9/bg.gif',\n",
       "    'profile_background_tile': False,\n",
       "    'profile_image_url': 'http://pbs.twimg.com/profile_images/1206892474867675136/skyEmDYN_normal.jpg',\n",
       "    'profile_image_url_https': 'https://pbs.twimg.com/profile_images/1206892474867675136/skyEmDYN_normal.jpg',\n",
       "    'profile_banner_url': 'https://pbs.twimg.com/profile_banners/575805559/1562904320',\n",
       "    'profile_link_color': '2FC2EF',\n",
       "    'profile_sidebar_border_color': '181A1E',\n",
       "    'profile_sidebar_fill_color': '252429',\n",
       "    'profile_text_color': '666666',\n",
       "    'profile_use_background_image': True,\n",
       "    'has_extended_profile': True,\n",
       "    'default_profile': False,\n",
       "    'default_profile_image': False,\n",
       "    'following': False,\n",
       "    'follow_request_sent': False,\n",
       "    'notifications': False,\n",
       "    'translator_type': 'none'},\n",
       "   'geo': {'type': 'Point', 'coordinates': [-33.86, 151.211]},\n",
       "   'coordinates': {'type': 'Point', 'coordinates': [151.211, -33.86]},\n",
       "   'place': {'id': '0073b76548e5984f',\n",
       "    'url': 'https://api.twitter.com/1.1/geo/id/0073b76548e5984f.json',\n",
       "    'place_type': 'city',\n",
       "    'name': 'Sydney',\n",
       "    'full_name': 'Sydney, New South Wales',\n",
       "    'country_code': 'AU',\n",
       "    'country': 'Australia',\n",
       "    'contained_within': [],\n",
       "    'bounding_box': {'type': 'Polygon',\n",
       "     'coordinates': [[[150.520928608, -34.1183470085],\n",
       "       [151.343020992, -34.1183470085],\n",
       "       [151.343020992, -33.578140996],\n",
       "       [150.520928608, -33.578140996]]]},\n",
       "    'attributes': {}},\n",
       "   'contributors': None,\n",
       "   'is_quote_status': False,\n",
       "   'retweet_count': 0,\n",
       "   'favorite_count': 0,\n",
       "   'favorited': False,\n",
       "   'retweeted': False,\n",
       "   'possibly_sensitive': False,\n",
       "   'lang': 'en',\n",
       "   'location': 'sydney'}},\n",
       " {'id': '1212166639598395394',\n",
       "  'key': ['sydney', 2020, 1, 1],\n",
       "  'value': 1,\n",
       "  'doc': {'_id': '1212166639598395394',\n",
       "   '_rev': '1-329d428c589de219c398898749395128',\n",
       "   'created_at': 'Wed Jan 01 00:20:22 +0000 2020',\n",
       "   'id': 1212166639598395400,\n",
       "   'id_str': '1212166639598395394',\n",
       "   'text': '2019 was an interesting year, more ups than downs so I guess you could call it a good year! ☺️ Looking forward to w… https://t.co/hT3xKGoAC1',\n",
       "   'truncated': True,\n",
       "   'entities': {'hashtags': [],\n",
       "    'symbols': [],\n",
       "    'user_mentions': [],\n",
       "    'urls': [{'url': 'https://t.co/hT3xKGoAC1',\n",
       "      'expanded_url': 'https://twitter.com/i/web/status/1212166639598395394',\n",
       "      'display_url': 'twitter.com/i/web/status/1…',\n",
       "      'indices': [117, 140]}]},\n",
       "   'metadata': {'iso_language_code': 'en', 'result_type': 'recent'},\n",
       "   'source': '<a href=\"http://instagram.com\" rel=\"nofollow\">Instagram</a>',\n",
       "   'in_reply_to_status_id': None,\n",
       "   'in_reply_to_status_id_str': None,\n",
       "   'in_reply_to_user_id': None,\n",
       "   'in_reply_to_user_id_str': None,\n",
       "   'in_reply_to_screen_name': None,\n",
       "   'user': {'id': 24335687,\n",
       "    'id_str': '24335687',\n",
       "    'name': 'Marsha Alba',\n",
       "    'screen_name': 'mamarsh',\n",
       "    'location': 'Philippines',\n",
       "    'description': 'curls, chocolates and chaos',\n",
       "    'url': None,\n",
       "    'entities': {'description': {'urls': []}},\n",
       "    'protected': False,\n",
       "    'followers_count': 274,\n",
       "    'friends_count': 298,\n",
       "    'listed_count': 0,\n",
       "    'created_at': 'Sat Mar 14 05:30:31 +0000 2009',\n",
       "    'favourites_count': 2182,\n",
       "    'utc_offset': None,\n",
       "    'time_zone': None,\n",
       "    'geo_enabled': True,\n",
       "    'verified': False,\n",
       "    'statuses_count': 25670,\n",
       "    'lang': None,\n",
       "    'contributors_enabled': False,\n",
       "    'is_translator': False,\n",
       "    'is_translation_enabled': False,\n",
       "    'profile_background_color': 'BADFCD',\n",
       "    'profile_background_image_url': 'http://abs.twimg.com/images/themes/theme12/bg.gif',\n",
       "    'profile_background_image_url_https': 'https://abs.twimg.com/images/themes/theme12/bg.gif',\n",
       "    'profile_background_tile': False,\n",
       "    'profile_image_url': 'http://pbs.twimg.com/profile_images/1017807526740365312/ot2CzcZR_normal.jpg',\n",
       "    'profile_image_url_https': 'https://pbs.twimg.com/profile_images/1017807526740365312/ot2CzcZR_normal.jpg',\n",
       "    'profile_banner_url': 'https://pbs.twimg.com/profile_banners/24335687/1399981499',\n",
       "    'profile_link_color': 'FF0000',\n",
       "    'profile_sidebar_border_color': 'F2E195',\n",
       "    'profile_sidebar_fill_color': 'FFF7CC',\n",
       "    'profile_text_color': '0C3E53',\n",
       "    'profile_use_background_image': True,\n",
       "    'has_extended_profile': False,\n",
       "    'default_profile': False,\n",
       "    'default_profile_image': False,\n",
       "    'following': False,\n",
       "    'follow_request_sent': False,\n",
       "    'notifications': False,\n",
       "    'translator_type': 'none'},\n",
       "   'geo': {'type': 'Point', 'coordinates': [-33.86751, 151.20797]},\n",
       "   'coordinates': {'type': 'Point', 'coordinates': [151.20797, -33.86751]},\n",
       "   'place': {'id': '0073b76548e5984f',\n",
       "    'url': 'https://api.twitter.com/1.1/geo/id/0073b76548e5984f.json',\n",
       "    'place_type': 'city',\n",
       "    'name': 'Sydney',\n",
       "    'full_name': 'Sydney, New South Wales',\n",
       "    'country_code': 'AU',\n",
       "    'country': 'Australia',\n",
       "    'contained_within': [],\n",
       "    'bounding_box': {'type': 'Polygon',\n",
       "     'coordinates': [[[150.520928608, -34.1183470085],\n",
       "       [151.343020992, -34.1183470085],\n",
       "       [151.343020992, -33.578140996],\n",
       "       [150.520928608, -33.578140996]]]},\n",
       "    'attributes': {}},\n",
       "   'contributors': None,\n",
       "   'is_quote_status': False,\n",
       "   'retweet_count': 0,\n",
       "   'favorite_count': 0,\n",
       "   'favorited': False,\n",
       "   'retweeted': False,\n",
       "   'possibly_sensitive': False,\n",
       "   'lang': 'en',\n",
       "   'location': 'sydney'}}]"
      ]
     },
     "execution_count": 13,
     "metadata": {},
     "output_type": "execute_result"
    }
   ],
   "source": [
    "tweet_clean"
   ]
  },
  {
   "cell_type": "markdown",
   "id": "f0a5690b-85da-483d-8fa6-bd2d5d780889",
   "metadata": {},
   "source": [
    "## 草稿"
   ]
  },
  {
   "cell_type": "code",
   "execution_count": null,
   "id": "ba6a5be7-e9ad-4704-901f-9d941e20e1f0",
   "metadata": {},
   "outputs": [],
   "source": [
    "list1 = grid['features'][2]['geometry']['coordinates']"
   ]
  },
  {
   "cell_type": "code",
   "execution_count": null,
   "id": "e92c43e9-17ea-4c16-bb07-f079d1605a67",
   "metadata": {},
   "outputs": [],
   "source": [
    "\n",
    "\n",
    "f1 = \"\"\n",
    "for i in list1[0]:\n",
    "    f1 += str(i)+ \" \" \n",
    "\n",
    "coords = re.findall(r'\\-?\\d+\\.\\d+', f1)\n",
    "print(coords)\n",
    "coord_list = list(set(coords))\n",
    "print(sorted(coord_list, key=float))"
   ]
  },
  {
   "cell_type": "code",
   "execution_count": null,
   "id": "7bb6ae9e-ae12-4aa1-ada5-ec3446c114d2",
   "metadata": {},
   "outputs": [],
   "source": [
    "tweet['rows'][227]['doc']['geo']['coordinates']"
   ]
  },
  {
   "cell_type": "code",
   "execution_count": null,
   "id": "d54fceb1-00e3-4536-ae6c-3111ee28fbd1",
   "metadata": {},
   "outputs": [],
   "source": [
    "if (float('-33.66') > float(coord_list[1])) & (float('-33.86') < float(coord_list[0])) :\n",
    "    print('11')"
   ]
  },
  {
   "cell_type": "code",
   "execution_count": null,
   "id": "69131a00-34d3-45be-9a6c-b40474bf965e",
   "metadata": {},
   "outputs": [],
   "source": [
    "tweet_clean[0]['doc']['place']['bounding_box']['coordinates']"
   ]
  },
  {
   "cell_type": "code",
   "execution_count": null,
   "id": "dfaece7b-43a9-44c9-a622-0f5ac6bd2faa",
   "metadata": {},
   "outputs": [],
   "source": [
    "tweet_clean[0]['doc']['geo']['coordinates']"
   ]
  }
 ],
 "metadata": {
  "kernelspec": {
   "display_name": "Python 3",
   "language": "python",
   "name": "python3"
  },
  "language_info": {
   "codemirror_mode": {
    "name": "ipython",
    "version": 3
   },
   "file_extension": ".py",
   "mimetype": "text/x-python",
   "name": "python",
   "nbconvert_exporter": "python",
   "pygments_lexer": "ipython3",
   "version": "3.8.8"
  }
 },
 "nbformat": 4,
 "nbformat_minor": 5
}
